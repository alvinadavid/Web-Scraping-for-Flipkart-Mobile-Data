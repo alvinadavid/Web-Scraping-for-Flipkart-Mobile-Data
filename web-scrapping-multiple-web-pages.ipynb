{
 "cells": [
  {
   "cell_type": "code",
   "execution_count": 1,
   "id": "15b8d91f-a586-4c2d-bcb0-a9e21df787d5",
   "metadata": {},
   "outputs": [],
   "source": [
    "import pandas as pd\n",
    "import numpy as np\n",
    "import matplotlib.pyplot as plt"
   ]
  },
  {
   "cell_type": "code",
   "execution_count": 2,
   "id": "fb12a872-a19a-4be3-a045-00ff77cf2515",
   "metadata": {},
   "outputs": [],
   "source": [
    "import warnings \n",
    "warnings.filterwarnings(\"ignore\")"
   ]
  },
  {
   "cell_type": "code",
   "execution_count": 3,
   "id": "65042cae-6208-47db-a686-61267b62e305",
   "metadata": {},
   "outputs": [],
   "source": [
    "from bs4 import BeautifulSoup\n",
    "from urllib.request import urlopen, Request\n",
    "import requests"
   ]
  },
  {
   "cell_type": "code",
   "execution_count": 4,
   "id": "d5ef6872-eba1-45f8-b643-15e9a9645095",
   "metadata": {},
   "outputs": [],
   "source": [
    "url_list = []\n",
    "for i in range(1,42):\n",
    "    url = f\"https://www.flipkart.com/search?q=mobiles&otracker=search&otracker1=search&marketplace=FLIPKART&as-show=on&as={i}\"\n",
    "    url_list.append(url)"
   ]
  },
  {
   "cell_type": "code",
   "execution_count": 5,
   "id": "5654b32d-521e-442b-a8ef-7c81124dc515",
   "metadata": {},
   "outputs": [
    {
     "data": {
      "text/plain": [
       "['https://www.flipkart.com/search?q=mobiles&otracker=search&otracker1=search&marketplace=FLIPKART&as-show=on&as=1',\n",
       " 'https://www.flipkart.com/search?q=mobiles&otracker=search&otracker1=search&marketplace=FLIPKART&as-show=on&as=2',\n",
       " 'https://www.flipkart.com/search?q=mobiles&otracker=search&otracker1=search&marketplace=FLIPKART&as-show=on&as=3',\n",
       " 'https://www.flipkart.com/search?q=mobiles&otracker=search&otracker1=search&marketplace=FLIPKART&as-show=on&as=4',\n",
       " 'https://www.flipkart.com/search?q=mobiles&otracker=search&otracker1=search&marketplace=FLIPKART&as-show=on&as=5',\n",
       " 'https://www.flipkart.com/search?q=mobiles&otracker=search&otracker1=search&marketplace=FLIPKART&as-show=on&as=6',\n",
       " 'https://www.flipkart.com/search?q=mobiles&otracker=search&otracker1=search&marketplace=FLIPKART&as-show=on&as=7',\n",
       " 'https://www.flipkart.com/search?q=mobiles&otracker=search&otracker1=search&marketplace=FLIPKART&as-show=on&as=8',\n",
       " 'https://www.flipkart.com/search?q=mobiles&otracker=search&otracker1=search&marketplace=FLIPKART&as-show=on&as=9',\n",
       " 'https://www.flipkart.com/search?q=mobiles&otracker=search&otracker1=search&marketplace=FLIPKART&as-show=on&as=10',\n",
       " 'https://www.flipkart.com/search?q=mobiles&otracker=search&otracker1=search&marketplace=FLIPKART&as-show=on&as=11',\n",
       " 'https://www.flipkart.com/search?q=mobiles&otracker=search&otracker1=search&marketplace=FLIPKART&as-show=on&as=12',\n",
       " 'https://www.flipkart.com/search?q=mobiles&otracker=search&otracker1=search&marketplace=FLIPKART&as-show=on&as=13',\n",
       " 'https://www.flipkart.com/search?q=mobiles&otracker=search&otracker1=search&marketplace=FLIPKART&as-show=on&as=14',\n",
       " 'https://www.flipkart.com/search?q=mobiles&otracker=search&otracker1=search&marketplace=FLIPKART&as-show=on&as=15',\n",
       " 'https://www.flipkart.com/search?q=mobiles&otracker=search&otracker1=search&marketplace=FLIPKART&as-show=on&as=16',\n",
       " 'https://www.flipkart.com/search?q=mobiles&otracker=search&otracker1=search&marketplace=FLIPKART&as-show=on&as=17',\n",
       " 'https://www.flipkart.com/search?q=mobiles&otracker=search&otracker1=search&marketplace=FLIPKART&as-show=on&as=18',\n",
       " 'https://www.flipkart.com/search?q=mobiles&otracker=search&otracker1=search&marketplace=FLIPKART&as-show=on&as=19',\n",
       " 'https://www.flipkart.com/search?q=mobiles&otracker=search&otracker1=search&marketplace=FLIPKART&as-show=on&as=20',\n",
       " 'https://www.flipkart.com/search?q=mobiles&otracker=search&otracker1=search&marketplace=FLIPKART&as-show=on&as=21',\n",
       " 'https://www.flipkart.com/search?q=mobiles&otracker=search&otracker1=search&marketplace=FLIPKART&as-show=on&as=22',\n",
       " 'https://www.flipkart.com/search?q=mobiles&otracker=search&otracker1=search&marketplace=FLIPKART&as-show=on&as=23',\n",
       " 'https://www.flipkart.com/search?q=mobiles&otracker=search&otracker1=search&marketplace=FLIPKART&as-show=on&as=24',\n",
       " 'https://www.flipkart.com/search?q=mobiles&otracker=search&otracker1=search&marketplace=FLIPKART&as-show=on&as=25',\n",
       " 'https://www.flipkart.com/search?q=mobiles&otracker=search&otracker1=search&marketplace=FLIPKART&as-show=on&as=26',\n",
       " 'https://www.flipkart.com/search?q=mobiles&otracker=search&otracker1=search&marketplace=FLIPKART&as-show=on&as=27',\n",
       " 'https://www.flipkart.com/search?q=mobiles&otracker=search&otracker1=search&marketplace=FLIPKART&as-show=on&as=28',\n",
       " 'https://www.flipkart.com/search?q=mobiles&otracker=search&otracker1=search&marketplace=FLIPKART&as-show=on&as=29',\n",
       " 'https://www.flipkart.com/search?q=mobiles&otracker=search&otracker1=search&marketplace=FLIPKART&as-show=on&as=30',\n",
       " 'https://www.flipkart.com/search?q=mobiles&otracker=search&otracker1=search&marketplace=FLIPKART&as-show=on&as=31',\n",
       " 'https://www.flipkart.com/search?q=mobiles&otracker=search&otracker1=search&marketplace=FLIPKART&as-show=on&as=32',\n",
       " 'https://www.flipkart.com/search?q=mobiles&otracker=search&otracker1=search&marketplace=FLIPKART&as-show=on&as=33',\n",
       " 'https://www.flipkart.com/search?q=mobiles&otracker=search&otracker1=search&marketplace=FLIPKART&as-show=on&as=34',\n",
       " 'https://www.flipkart.com/search?q=mobiles&otracker=search&otracker1=search&marketplace=FLIPKART&as-show=on&as=35',\n",
       " 'https://www.flipkart.com/search?q=mobiles&otracker=search&otracker1=search&marketplace=FLIPKART&as-show=on&as=36',\n",
       " 'https://www.flipkart.com/search?q=mobiles&otracker=search&otracker1=search&marketplace=FLIPKART&as-show=on&as=37',\n",
       " 'https://www.flipkart.com/search?q=mobiles&otracker=search&otracker1=search&marketplace=FLIPKART&as-show=on&as=38',\n",
       " 'https://www.flipkart.com/search?q=mobiles&otracker=search&otracker1=search&marketplace=FLIPKART&as-show=on&as=39',\n",
       " 'https://www.flipkart.com/search?q=mobiles&otracker=search&otracker1=search&marketplace=FLIPKART&as-show=on&as=40',\n",
       " 'https://www.flipkart.com/search?q=mobiles&otracker=search&otracker1=search&marketplace=FLIPKART&as-show=on&as=41']"
      ]
     },
     "execution_count": 5,
     "metadata": {},
     "output_type": "execute_result"
    }
   ],
   "source": [
    "url_list"
   ]
  },
  {
   "cell_type": "code",
   "execution_count": 6,
   "id": "48d7d52e-1a7e-4fca-ab87-dabdf00fe77e",
   "metadata": {},
   "outputs": [],
   "source": [
    "def create_html_page(url):\n",
    "    uClient = urlopen(url)\n",
    "    page_html = uClient.read()\n",
    "    uClient.close()\n",
    "    page_soup = BeautifulSoup(page_html, features='html')\n",
    "    return page_soup"
   ]
  },
  {
   "cell_type": "code",
   "execution_count": 9,
   "id": "a626d613-ac2a-4b95-bbe3-f638368ad517",
   "metadata": {},
   "outputs": [],
   "source": [
    "def create_final_data(page_soup):\n",
    "    data = {\"Product Name\": [],\n",
    "        \"Sale & Actual Price\": [],\n",
    "        \"Review & Ratings\": [],\n",
    "        \"Offer\": [],\n",
    "        \"Camera\": [],\n",
    "        \"Memory\": [],\n",
    "        \"Battery\": [],\n",
    "        \"Display\": [],\n",
    "        \"Ratings Number\": []}\n",
    "    \n",
    "    all_info_class_name = \"yKfJKb row\"\n",
    "    containers = page_soup.find_all(\"div\", {\"class\": all_info_class_name})\n",
    "    \n",
    "    for contain in containers:\n",
    "        product_name = contain.find_all(\"div\", {\"class\": \"KzDlHZ\"})[0].text\n",
    "        data[\"Product Name\"].append(product_name)\n",
    "\n",
    "        rr = contain.find_all(\"span\", {\"class\": \"Wphh3N\"})\n",
    "        if len(rr) == 0:\n",
    "            review_and_rating = None\n",
    "            rating_number = None\n",
    "        else:\n",
    "            review_and_rating = rr[0].text\n",
    "            rating_number = contain.find_all(\"div\", {\"class\": \"XQDdHH\"})[0].text\n",
    "\n",
    "        data[\"Review & Ratings\"].append(review_and_rating)\n",
    "        data[\"Ratings Number\"].append(rating_number)\n",
    "\n",
    "        specifictations = contain.find_all(\"div\", {\"class\": \"_6NESgJ\"})[0]\n",
    "\n",
    "        data[\"Memory\"].append(specifictations.find_all('li')[0].text)\n",
    "        data[\"Display\"].append(specifictations.find_all('li')[1].text)\n",
    "        data[\"Camera\"].append(specifictations.find_all('li')[2].text)\n",
    "        data[\"Battery\"].append(specifictations.find_all('li')[3].text)\n",
    "\n",
    "        price = contain.find_all(\"div\", {\"class\": \"hl05eU\"})[0].text\n",
    "        data[\"Sale & Actual Price\"].append(price)\n",
    "\n",
    "        offer_list = contain.find_all(\"div\", {\"class\": \"UkUFwK\"})\n",
    "        if len(offer_list) == 0:\n",
    "            data[\"Offer\"].append(\"No Offer\")\n",
    "        else:\n",
    "            data[\"Offer\"].append(offer_list[0].text)\n",
    "        \n",
    "    return data\n",
    "    \n",
    " \n",
    "\n",
    "\n"
   ]
  },
  {
   "cell_type": "markdown",
   "id": "aa2f9d5a-41e8-4dfd-b4f9-1e6ea9fb6f84",
   "metadata": {},
   "source": [
    "# MAIN SECTION"
   ]
  },
  {
   "cell_type": "code",
   "execution_count": 48,
   "id": "a8a5cb48-8f65-44f6-8417-5ae82a5bf2c7",
   "metadata": {},
   "outputs": [
    {
     "name": "stdout",
     "output_type": "stream",
     "text": [
      "Started url page 1\n",
      "Started url page 2\n",
      "Started url page 3\n",
      "Started url page 4\n",
      "Started url page 5\n",
      "Started url page 6\n",
      "Started url page 7\n",
      "Started url page 8\n"
     ]
    },
    {
     "ename": "HTTPError",
     "evalue": "HTTP Error 429: Too Many Requests",
     "output_type": "error",
     "traceback": [
      "\u001b[31m---------------------------------------------------------------------------\u001b[39m",
      "\u001b[31mHTTPError\u001b[39m                                 Traceback (most recent call last)",
      "\u001b[36mCell\u001b[39m\u001b[36m \u001b[39m\u001b[32mIn[48]\u001b[39m\u001b[32m, line 4\u001b[39m\n\u001b[32m      2\u001b[39m \u001b[38;5;28;01mfor\u001b[39;00m i, url \u001b[38;5;129;01min\u001b[39;00m \u001b[38;5;28menumerate\u001b[39m(url_list):\n\u001b[32m      3\u001b[39m     \u001b[38;5;28mprint\u001b[39m(\u001b[33mf\u001b[39m\u001b[33m\"\u001b[39m\u001b[33mStarted url page \u001b[39m\u001b[38;5;132;01m{\u001b[39;00mi+\u001b[32m1\u001b[39m\u001b[38;5;132;01m}\u001b[39;00m\u001b[33m\"\u001b[39m)\n\u001b[32m----> \u001b[39m\u001b[32m4\u001b[39m     page_soup = \u001b[43mcreate_html_page\u001b[49m\u001b[43m(\u001b[49m\u001b[43murl_list\u001b[49m\u001b[43m[\u001b[49m\u001b[32;43m0\u001b[39;49m\u001b[43m]\u001b[49m\u001b[43m)\u001b[49m\n\u001b[32m      5\u001b[39m     data_info = create_final_data(page_soup)\n\u001b[32m      6\u001b[39m     data_frame_list.append(data_info)\n",
      "\u001b[36mCell\u001b[39m\u001b[36m \u001b[39m\u001b[32mIn[6]\u001b[39m\u001b[32m, line 2\u001b[39m, in \u001b[36mcreate_html_page\u001b[39m\u001b[34m(url)\u001b[39m\n\u001b[32m      1\u001b[39m \u001b[38;5;28;01mdef\u001b[39;00m \u001b[34mcreate_html_page\u001b[39m(url):\n\u001b[32m----> \u001b[39m\u001b[32m2\u001b[39m     uClient = \u001b[43murlopen\u001b[49m\u001b[43m(\u001b[49m\u001b[43murl\u001b[49m\u001b[43m)\u001b[49m\n\u001b[32m      3\u001b[39m     page_html = uClient.read()\n\u001b[32m      4\u001b[39m     uClient.close()\n",
      "\u001b[36mFile \u001b[39m\u001b[32mC:\\ProgramData\\anaconda3\\Lib\\urllib\\request.py:189\u001b[39m, in \u001b[36murlopen\u001b[39m\u001b[34m(url, data, timeout, context)\u001b[39m\n\u001b[32m    187\u001b[39m \u001b[38;5;28;01melse\u001b[39;00m:\n\u001b[32m    188\u001b[39m     opener = _opener\n\u001b[32m--> \u001b[39m\u001b[32m189\u001b[39m \u001b[38;5;28;01mreturn\u001b[39;00m \u001b[43mopener\u001b[49m\u001b[43m.\u001b[49m\u001b[43mopen\u001b[49m\u001b[43m(\u001b[49m\u001b[43murl\u001b[49m\u001b[43m,\u001b[49m\u001b[43m \u001b[49m\u001b[43mdata\u001b[49m\u001b[43m,\u001b[49m\u001b[43m \u001b[49m\u001b[43mtimeout\u001b[49m\u001b[43m)\u001b[49m\n",
      "\u001b[36mFile \u001b[39m\u001b[32mC:\\ProgramData\\anaconda3\\Lib\\urllib\\request.py:495\u001b[39m, in \u001b[36mOpenerDirector.open\u001b[39m\u001b[34m(self, fullurl, data, timeout)\u001b[39m\n\u001b[32m    493\u001b[39m \u001b[38;5;28;01mfor\u001b[39;00m processor \u001b[38;5;129;01min\u001b[39;00m \u001b[38;5;28mself\u001b[39m.process_response.get(protocol, []):\n\u001b[32m    494\u001b[39m     meth = \u001b[38;5;28mgetattr\u001b[39m(processor, meth_name)\n\u001b[32m--> \u001b[39m\u001b[32m495\u001b[39m     response = \u001b[43mmeth\u001b[49m\u001b[43m(\u001b[49m\u001b[43mreq\u001b[49m\u001b[43m,\u001b[49m\u001b[43m \u001b[49m\u001b[43mresponse\u001b[49m\u001b[43m)\u001b[49m\n\u001b[32m    497\u001b[39m \u001b[38;5;28;01mreturn\u001b[39;00m response\n",
      "\u001b[36mFile \u001b[39m\u001b[32mC:\\ProgramData\\anaconda3\\Lib\\urllib\\request.py:604\u001b[39m, in \u001b[36mHTTPErrorProcessor.http_response\u001b[39m\u001b[34m(self, request, response)\u001b[39m\n\u001b[32m    601\u001b[39m \u001b[38;5;66;03m# According to RFC 2616, \"2xx\" code indicates that the client's\u001b[39;00m\n\u001b[32m    602\u001b[39m \u001b[38;5;66;03m# request was successfully received, understood, and accepted.\u001b[39;00m\n\u001b[32m    603\u001b[39m \u001b[38;5;28;01mif\u001b[39;00m \u001b[38;5;129;01mnot\u001b[39;00m (\u001b[32m200\u001b[39m <= code < \u001b[32m300\u001b[39m):\n\u001b[32m--> \u001b[39m\u001b[32m604\u001b[39m     response = \u001b[38;5;28;43mself\u001b[39;49m\u001b[43m.\u001b[49m\u001b[43mparent\u001b[49m\u001b[43m.\u001b[49m\u001b[43merror\u001b[49m\u001b[43m(\u001b[49m\n\u001b[32m    605\u001b[39m \u001b[43m        \u001b[49m\u001b[33;43m'\u001b[39;49m\u001b[33;43mhttp\u001b[39;49m\u001b[33;43m'\u001b[39;49m\u001b[43m,\u001b[49m\u001b[43m \u001b[49m\u001b[43mrequest\u001b[49m\u001b[43m,\u001b[49m\u001b[43m \u001b[49m\u001b[43mresponse\u001b[49m\u001b[43m,\u001b[49m\u001b[43m \u001b[49m\u001b[43mcode\u001b[49m\u001b[43m,\u001b[49m\u001b[43m \u001b[49m\u001b[43mmsg\u001b[49m\u001b[43m,\u001b[49m\u001b[43m \u001b[49m\u001b[43mhdrs\u001b[49m\u001b[43m)\u001b[49m\n\u001b[32m    607\u001b[39m \u001b[38;5;28;01mreturn\u001b[39;00m response\n",
      "\u001b[36mFile \u001b[39m\u001b[32mC:\\ProgramData\\anaconda3\\Lib\\urllib\\request.py:533\u001b[39m, in \u001b[36mOpenerDirector.error\u001b[39m\u001b[34m(self, proto, *args)\u001b[39m\n\u001b[32m    531\u001b[39m \u001b[38;5;28;01mif\u001b[39;00m http_err:\n\u001b[32m    532\u001b[39m     args = (\u001b[38;5;28mdict\u001b[39m, \u001b[33m'\u001b[39m\u001b[33mdefault\u001b[39m\u001b[33m'\u001b[39m, \u001b[33m'\u001b[39m\u001b[33mhttp_error_default\u001b[39m\u001b[33m'\u001b[39m) + orig_args\n\u001b[32m--> \u001b[39m\u001b[32m533\u001b[39m     \u001b[38;5;28;01mreturn\u001b[39;00m \u001b[38;5;28;43mself\u001b[39;49m\u001b[43m.\u001b[49m\u001b[43m_call_chain\u001b[49m\u001b[43m(\u001b[49m\u001b[43m*\u001b[49m\u001b[43margs\u001b[49m\u001b[43m)\u001b[49m\n",
      "\u001b[36mFile \u001b[39m\u001b[32mC:\\ProgramData\\anaconda3\\Lib\\urllib\\request.py:466\u001b[39m, in \u001b[36mOpenerDirector._call_chain\u001b[39m\u001b[34m(self, chain, kind, meth_name, *args)\u001b[39m\n\u001b[32m    464\u001b[39m \u001b[38;5;28;01mfor\u001b[39;00m handler \u001b[38;5;129;01min\u001b[39;00m handlers:\n\u001b[32m    465\u001b[39m     func = \u001b[38;5;28mgetattr\u001b[39m(handler, meth_name)\n\u001b[32m--> \u001b[39m\u001b[32m466\u001b[39m     result = \u001b[43mfunc\u001b[49m\u001b[43m(\u001b[49m\u001b[43m*\u001b[49m\u001b[43margs\u001b[49m\u001b[43m)\u001b[49m\n\u001b[32m    467\u001b[39m     \u001b[38;5;28;01mif\u001b[39;00m result \u001b[38;5;129;01mis\u001b[39;00m \u001b[38;5;129;01mnot\u001b[39;00m \u001b[38;5;28;01mNone\u001b[39;00m:\n\u001b[32m    468\u001b[39m         \u001b[38;5;28;01mreturn\u001b[39;00m result\n",
      "\u001b[36mFile \u001b[39m\u001b[32mC:\\ProgramData\\anaconda3\\Lib\\urllib\\request.py:613\u001b[39m, in \u001b[36mHTTPDefaultErrorHandler.http_error_default\u001b[39m\u001b[34m(self, req, fp, code, msg, hdrs)\u001b[39m\n\u001b[32m    612\u001b[39m \u001b[38;5;28;01mdef\u001b[39;00m \u001b[34mhttp_error_default\u001b[39m(\u001b[38;5;28mself\u001b[39m, req, fp, code, msg, hdrs):\n\u001b[32m--> \u001b[39m\u001b[32m613\u001b[39m     \u001b[38;5;28;01mraise\u001b[39;00m HTTPError(req.full_url, code, msg, hdrs, fp)\n",
      "\u001b[31mHTTPError\u001b[39m: HTTP Error 429: Too Many Requests"
     ]
    }
   ],
   "source": [
    "data_frame_list = []\n",
    "for i, url in enumerate(url_list):\n",
    "    print(f\"Started url page {i+1}\")\n",
    "    page_soup = create_html_page(url_list[0])\n",
    "    data_info = create_final_data(page_soup)\n",
    "    data_frame_list.append(data_info)"
   ]
  },
  {
   "cell_type": "code",
   "execution_count": 49,
   "id": "de7486a5-67d4-423b-8b2f-dec0eb27eea1",
   "metadata": {},
   "outputs": [
    {
     "data": {
      "text/plain": [
       "7"
      ]
     },
     "execution_count": 49,
     "metadata": {},
     "output_type": "execute_result"
    }
   ],
   "source": [
    "len(data_frame_list)"
   ]
  },
  {
   "cell_type": "code",
   "execution_count": 50,
   "id": "4c59dfc9-8df6-4bba-988f-f2a938669a72",
   "metadata": {},
   "outputs": [],
   "source": [
    "df_all = []\n",
    "for i in range(len(data_frame_list)):\n",
    "    df = pd.DataFrame(data_frame_list[i])\n",
    "    df_all.append(df)"
   ]
  },
  {
   "cell_type": "code",
   "execution_count": 51,
   "id": "f797181c-4405-4b14-a3d1-0b32a2585d32",
   "metadata": {},
   "outputs": [],
   "source": [
    "final_df = pd.concat(df_all, ignore_index=True)"
   ]
  },
  {
   "cell_type": "code",
   "execution_count": 52,
   "id": "147d6d20-f059-4e0e-ad2d-e9260fe76920",
   "metadata": {},
   "outputs": [
    {
     "data": {
      "text/plain": [
       "(24,)"
      ]
     },
     "execution_count": 52,
     "metadata": {},
     "output_type": "execute_result"
    }
   ],
   "source": [
    "final_df[\"Product Name\"].unique().shape"
   ]
  },
  {
   "cell_type": "code",
   "execution_count": 53,
   "id": "2430fafd-ffde-439e-a080-019aba0caf39",
   "metadata": {},
   "outputs": [
    {
     "data": {
      "text/plain": [
       "array(['REDMI Note 14 SE 5G (Crimson Art, 128 GB)',\n",
       "       'REDMI Note 14 SE 5G (Mystique White, 128 GB)',\n",
       "       'Samsung Guru Music 2 B310ED', 'POCO C71 (Cool Blue, 128 GB)',\n",
       "       'REDMI Note 14 SE 5G (Titan Black, 128 GB)',\n",
       "       'MOTOROLA g35 5G (Guava Red, 128 GB)',\n",
       "       'MOTOROLA g05 (Forest Green, 64 GB)',\n",
       "       'POCO C71 (Power Black, 128 GB)',\n",
       "       'Motorola g45 5G (Brilliant Green, 128 GB)',\n",
       "       'POCO M6 Plus 5G (Ice Silver, 128 GB)',\n",
       "       'Samsung Galaxy F05 (Twilight Blue, 64 GB)',\n",
       "       'POCO C71 (Cool Blue, 64 GB)', 'MOTOROLA g05 (Plum Red, 64 GB)',\n",
       "       'POCO C71 (Desert Gold, 128 GB)',\n",
       "       'REDMI A5 (Jaisalmer Gold, 128 GB)', 'Samsung Guru 1200',\n",
       "       'vivo T4x 5G (Marine Blue, 128 GB)',\n",
       "       'OPPO K13 5G with 7000mAh and 80W SUPERVOOC Charger In-The-Box (Prism Black, 128 GB)',\n",
       "       'vivo T4x 5G (Pronto Purple, 256 GB)',\n",
       "       'POCO C75 5G (Silver Stardust, 64 GB)',\n",
       "       'vivo T4 Lite 5G Charger in the Box (Titanium Gold, 128 GB)',\n",
       "       'Motorola G85 5G (Viva Magenta, 128 GB)',\n",
       "       'REDMI A5 (Just Black, 64 GB)',\n",
       "       'Samsung Galaxy F16 5G (Glam Green, 128 GB)'], dtype=object)"
      ]
     },
     "execution_count": 53,
     "metadata": {},
     "output_type": "execute_result"
    }
   ],
   "source": [
    "final_df[\"Product Name\"].unique()"
   ]
  },
  {
   "cell_type": "code",
   "execution_count": 54,
   "id": "c20e46fe-6d0e-4a80-8e5a-72f2fd34cba8",
   "metadata": {},
   "outputs": [
    {
     "data": {
      "text/plain": [
       "(168, 9)"
      ]
     },
     "execution_count": 54,
     "metadata": {},
     "output_type": "execute_result"
    }
   ],
   "source": [
    "final_df.shape"
   ]
  },
  {
   "cell_type": "code",
   "execution_count": 56,
   "id": "146ec4c1-a45f-443c-8e8e-1a3635584a53",
   "metadata": {},
   "outputs": [],
   "source": [
    "final_df.to_csv(\"flipkart_mobile_phones.csv\")"
   ]
  },
  {
   "cell_type": "code",
   "execution_count": null,
   "id": "38b5cee6-15f2-4183-abb7-7563ba93ca3c",
   "metadata": {},
   "outputs": [],
   "source": []
  }
 ],
 "metadata": {
  "kernelspec": {
   "display_name": "Python 3 (ipykernel)",
   "language": "python",
   "name": "python3"
  },
  "language_info": {
   "codemirror_mode": {
    "name": "ipython",
    "version": 3
   },
   "file_extension": ".py",
   "mimetype": "text/x-python",
   "name": "python",
   "nbconvert_exporter": "python",
   "pygments_lexer": "ipython3",
   "version": "3.13.5"
  }
 },
 "nbformat": 4,
 "nbformat_minor": 5
}
